{
  "nbformat": 4,
  "nbformat_minor": 0,
  "metadata": {
    "colab": {
      "name": "Face-Recognition2.ipynb",
      "provenance": [],
      "collapsed_sections": [],
      "authorship_tag": "ABX9TyOFE+RP0S/fI01Yiv3dLq07",
      "include_colab_link": true
    },
    "kernelspec": {
      "name": "python3",
      "display_name": "Python 3"
    },
    "language_info": {
      "name": "python"
    }
  },
  "cells": [
    {
      "cell_type": "markdown",
      "metadata": {
        "id": "view-in-github",
        "colab_type": "text"
      },
      "source": [
        "<a href=\"https://colab.research.google.com/github/BoranOner/Face-Detection/blob/main/Face_Recognition.ipynb\" target=\"_parent\"><img src=\"https://colab.research.google.com/assets/colab-badge.svg\" alt=\"Open In Colab\"/></a>"
      ]
    },
    {
      "cell_type": "code",
      "execution_count": null,
      "metadata": {
        "id": "kUy1nRp2TIRx"
      },
      "outputs": [],
      "source": [
        "import numpy as np\n",
        "import pandas as pd\n",
        "import seaborn as sns\n",
        "\n",
        "import missingno as msno\n",
        "\n",
        "from time import time\n",
        "import matplotlib.pyplot as plt\n",
        "import sklearn\n",
        "from sklearn.model_selection import GridSearchCV\n",
        "from sklearn.datasets import fetch_lfw_people\n",
        "from sklearn.metrics import classification_report\n",
        "from sklearn.metrics import confusion_matrix\n",
        "from sklearn.model_selection import train_test_split\n",
        "from sklearn.decomposition import PCA\n",
        "from sklearn.svm import SVC\n",
        "import os\n",
        "\n",
        "# libraries to support custom function for copying.\n",
        "\n",
        "import errno\n",
        "import shutil"
      ]
    },
    {
      "cell_type": "code",
      "source": [
        "#!pip install -q kaggle"
      ],
      "metadata": {
        "id": "EqrHb8x4Ur_G"
      },
      "execution_count": null,
      "outputs": []
    },
    {
      "cell_type": "code",
      "source": [
        "#! mkdir ~/.kaggle"
      ],
      "metadata": {
        "id": "ULHhnZvXVbg8"
      },
      "execution_count": null,
      "outputs": []
    },
    {
      "cell_type": "code",
      "source": [
        "#!cp kaggle.json ~/.kaggle/"
      ],
      "metadata": {
        "id": "06-7Km53VcZG"
      },
      "execution_count": null,
      "outputs": []
    },
    {
      "cell_type": "code",
      "source": [
        "#! chmod 600 ~/.kaggle/kaggle.json\n",
        "#! kaggle datasets download -d atulanandjha/lfwpeople"
      ],
      "metadata": {
        "id": "RDFB32PtVd5J"
      },
      "execution_count": null,
      "outputs": []
    },
    {
      "cell_type": "code",
      "source": [
        "#! unzip lfwpeople.zip"
      ],
      "metadata": {
        "id": "Tbgc1-BcVkPy"
      },
      "execution_count": null,
      "outputs": []
    },
    {
      "cell_type": "code",
      "source": [
        "path = 'LFW/'"
      ],
      "metadata": {
        "id": "IbjdGo4-TqEC"
      },
      "execution_count": null,
      "outputs": []
    },
    {
      "cell_type": "code",
      "source": [
        "#Setting the database"
      ],
      "metadata": {
        "id": "PpY1XU-ve9N1"
      },
      "execution_count": null,
      "outputs": []
    },
    {
      "cell_type": "code",
      "source": [
        "lfw_people = fetch_lfw_people(data_home = path, min_faces_per_person=50,resize=0.5,download_if_missing = False)"
      ],
      "metadata": {
        "id": "fkZD9xlBXAcA"
      },
      "execution_count": null,
      "outputs": []
    },
    {
      "cell_type": "code",
      "source": [
        "n_samples, h, w = lfw_people.images.shape\n",
        "X = lfw_people.data\n",
        "n_features = X.shape[1]\n",
        "y = lfw_people.target\n",
        "target_names = lfw_people.target_names\n",
        "n_classes = target_names.shape[0]"
      ],
      "metadata": {
        "id": "AM4F73KPeBqv"
      },
      "execution_count": null,
      "outputs": []
    },
    {
      "cell_type": "code",
      "source": [
        "#information about the data"
      ],
      "metadata": {
        "id": "2VieRuk4e1c4"
      },
      "execution_count": null,
      "outputs": []
    },
    {
      "cell_type": "code",
      "source": [
        "print(\"Total dataset size:\")\n",
        "print(\"\\tnumber of samples: %d\" % n_samples)\n",
        "print(\"\\tnumber of features: %d\" % n_features)\n",
        "print(\"\\tnumber of classes: %d\" % n_classes)"
      ],
      "metadata": {
        "colab": {
          "base_uri": "https://localhost:8080/"
        },
        "id": "4er8hAxUeXJr",
        "outputId": "82cd9cab-c8c0-476e-e3d7-a8aca27cb0a1"
      },
      "execution_count": null,
      "outputs": [
        {
          "output_type": "stream",
          "name": "stdout",
          "text": [
            "Total dataset size:\n",
            "\tnumber of samples: 1560\n",
            "\tnumber of features: 2914\n",
            "\tnumber of classes: 12\n"
          ]
        }
      ]
    },
    {
      "cell_type": "code",
      "source": [
        "#checking if data is NuN or not"
      ],
      "metadata": {
        "id": "Op8NlTnLevA7"
      },
      "execution_count": null,
      "outputs": []
    },
    {
      "cell_type": "code",
      "source": [
        "x = lfw_people.data\n",
        "np.isnan(np.sum(x))\n",
        "np.isnan(np.sum(y))"
      ],
      "metadata": {
        "colab": {
          "base_uri": "https://localhost:8080/"
        },
        "id": "W-o9QZLQeoXq",
        "outputId": "e6881fb9-cdbf-44d9-b717-5a60176bfcc8"
      },
      "execution_count": null,
      "outputs": [
        {
          "output_type": "execute_result",
          "data": {
            "text/plain": [
              "False"
            ]
          },
          "metadata": {},
          "execution_count": 37
        }
      ]
    },
    {
      "cell_type": "code",
      "source": [
        "#classes with their number of samples"
      ],
      "metadata": {
        "id": "CXEzp8flfO4-"
      },
      "execution_count": null,
      "outputs": []
    },
    {
      "cell_type": "code",
      "source": [
        "sns.countplot(x =\"target\",data = lfw_people)"
      ],
      "metadata": {
        "colab": {
          "base_uri": "https://localhost:8080/",
          "height": 282
        },
        "id": "hs-bH2n1fA-I",
        "outputId": "3f70be83-e885-48e4-b7fc-ef1629f6379e"
      },
      "execution_count": null,
      "outputs": [
        {
          "output_type": "execute_result",
          "data": {
            "text/plain": [
              "<matplotlib.axes._subplots.AxesSubplot at 0x7fb36503f450>"
            ]
          },
          "metadata": {},
          "execution_count": 40
        },
        {
          "output_type": "display_data",
          "data": {
            "text/plain": [
              "<Figure size 432x288 with 1 Axes>"
            ],
            "image/png": "[encoded data removed]"
          },
          "metadata": {
            "needs_background": "light"
          }
        }
      ]
    }
  ]
}